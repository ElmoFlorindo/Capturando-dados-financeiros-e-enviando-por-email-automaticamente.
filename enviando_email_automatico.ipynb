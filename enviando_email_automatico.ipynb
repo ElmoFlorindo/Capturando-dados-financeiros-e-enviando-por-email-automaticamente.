{
 "cells": [
  {
   "cell_type": "markdown",
   "id": "c8da05c7",
   "metadata": {},
   "source": [
    "# Gerar email automático com dados financeiros!\n",
    "Importar biblioteca yfinance\n",
    "\n",
    "Pegar colção máxima, mínima e atual de qualquer ação listada.\n",
    "Gerar um gráfico simples. Podemos usar tambem gráficos dinámicos com a biblioteca \"plotly express\" .\n",
    "\n",
    "Agora vamos automatizar o envio do email com a biblioteca pyautogui. "
   ]
  },
  {
   "cell_type": "code",
   "execution_count": 3,
   "id": "52ec1f7c",
   "metadata": {},
   "outputs": [
    {
     "name": "stdout",
     "output_type": "stream",
     "text": [
      "Requirement already satisfied: yfinance in c:\\users\\elmon\\anaconda3\\lib\\site-packages (0.1.87)\n",
      "Requirement already satisfied: appdirs>=1.4.4 in c:\\users\\elmon\\anaconda3\\lib\\site-packages (from yfinance) (1.4.4)\n",
      "Requirement already satisfied: pandas>=0.24.0 in c:\\users\\elmon\\anaconda3\\lib\\site-packages (from yfinance) (1.4.4)\n",
      "Requirement already satisfied: requests>=2.26 in c:\\users\\elmon\\anaconda3\\lib\\site-packages (from yfinance) (2.28.1)\n",
      "Requirement already satisfied: numpy>=1.15 in c:\\users\\elmon\\anaconda3\\lib\\site-packages (from yfinance) (1.21.5)\n",
      "Requirement already satisfied: lxml>=4.5.1 in c:\\users\\elmon\\anaconda3\\lib\\site-packages (from yfinance) (4.9.1)\n",
      "Requirement already satisfied: multitasking>=0.0.7 in c:\\users\\elmon\\anaconda3\\lib\\site-packages (from yfinance) (0.0.11)\n",
      "Requirement already satisfied: pytz>=2020.1 in c:\\users\\elmon\\anaconda3\\lib\\site-packages (from pandas>=0.24.0->yfinance) (2022.1)\n",
      "Requirement already satisfied: python-dateutil>=2.8.1 in c:\\users\\elmon\\anaconda3\\lib\\site-packages (from pandas>=0.24.0->yfinance) (2.8.2)\n",
      "Requirement already satisfied: urllib3<1.27,>=1.21.1 in c:\\users\\elmon\\anaconda3\\lib\\site-packages (from requests>=2.26->yfinance) (1.26.11)\n",
      "Requirement already satisfied: charset-normalizer<3,>=2 in c:\\users\\elmon\\anaconda3\\lib\\site-packages (from requests>=2.26->yfinance) (2.0.4)\n",
      "Requirement already satisfied: certifi>=2017.4.17 in c:\\users\\elmon\\anaconda3\\lib\\site-packages (from requests>=2.26->yfinance) (2022.9.14)\n",
      "Requirement already satisfied: idna<4,>=2.5 in c:\\users\\elmon\\anaconda3\\lib\\site-packages (from requests>=2.26->yfinance) (3.3)\n",
      "Requirement already satisfied: six>=1.5 in c:\\users\\elmon\\anaconda3\\lib\\site-packages (from python-dateutil>=2.8.1->pandas>=0.24.0->yfinance) (1.16.0)\n"
     ]
    }
   ],
   "source": [
    "!pip install yfinance"
   ]
  },
  {
   "cell_type": "code",
   "execution_count": 4,
   "id": "934245a0",
   "metadata": {},
   "outputs": [],
   "source": [
    "import yfinance"
   ]
  },
  {
   "cell_type": "code",
   "execution_count": 26,
   "id": "724541e5",
   "metadata": {},
   "outputs": [
    {
     "name": "stdout",
     "output_type": "stream",
     "text": [
      "Qual o código da ação que deseja: CL=F\n"
     ]
    },
    {
     "data": {
      "text/html": [
       "<div>\n",
       "<style scoped>\n",
       "    .dataframe tbody tr th:only-of-type {\n",
       "        vertical-align: middle;\n",
       "    }\n",
       "\n",
       "    .dataframe tbody tr th {\n",
       "        vertical-align: top;\n",
       "    }\n",
       "\n",
       "    .dataframe thead th {\n",
       "        text-align: right;\n",
       "    }\n",
       "</style>\n",
       "<table border=\"1\" class=\"dataframe\">\n",
       "  <thead>\n",
       "    <tr style=\"text-align: right;\">\n",
       "      <th></th>\n",
       "      <th>Open</th>\n",
       "      <th>High</th>\n",
       "      <th>Low</th>\n",
       "      <th>Close</th>\n",
       "      <th>Volume</th>\n",
       "      <th>Dividends</th>\n",
       "      <th>Stock Splits</th>\n",
       "    </tr>\n",
       "    <tr>\n",
       "      <th>Date</th>\n",
       "      <th></th>\n",
       "      <th></th>\n",
       "      <th></th>\n",
       "      <th></th>\n",
       "      <th></th>\n",
       "      <th></th>\n",
       "      <th></th>\n",
       "    </tr>\n",
       "  </thead>\n",
       "  <tbody>\n",
       "    <tr>\n",
       "      <th>2022-06-13 00:00:00-04:00</th>\n",
       "      <td>120.190002</td>\n",
       "      <td>122.250000</td>\n",
       "      <td>117.470001</td>\n",
       "      <td>120.930000</td>\n",
       "      <td>372403</td>\n",
       "      <td>0</td>\n",
       "      <td>0</td>\n",
       "    </tr>\n",
       "    <tr>\n",
       "      <th>2022-06-14 00:00:00-04:00</th>\n",
       "      <td>121.089996</td>\n",
       "      <td>123.680000</td>\n",
       "      <td>116.620003</td>\n",
       "      <td>118.930000</td>\n",
       "      <td>366320</td>\n",
       "      <td>0</td>\n",
       "      <td>0</td>\n",
       "    </tr>\n",
       "    <tr>\n",
       "      <th>2022-06-15 00:00:00-04:00</th>\n",
       "      <td>119.070000</td>\n",
       "      <td>119.610001</td>\n",
       "      <td>114.599998</td>\n",
       "      <td>115.309998</td>\n",
       "      <td>301750</td>\n",
       "      <td>0</td>\n",
       "      <td>0</td>\n",
       "    </tr>\n",
       "    <tr>\n",
       "      <th>2022-06-16 00:00:00-04:00</th>\n",
       "      <td>115.980003</td>\n",
       "      <td>118.080002</td>\n",
       "      <td>112.309998</td>\n",
       "      <td>117.589996</td>\n",
       "      <td>162543</td>\n",
       "      <td>0</td>\n",
       "      <td>0</td>\n",
       "    </tr>\n",
       "    <tr>\n",
       "      <th>2022-06-17 00:00:00-04:00</th>\n",
       "      <td>117.080002</td>\n",
       "      <td>118.970001</td>\n",
       "      <td>108.250000</td>\n",
       "      <td>109.559998</td>\n",
       "      <td>103149</td>\n",
       "      <td>0</td>\n",
       "      <td>0</td>\n",
       "    </tr>\n",
       "    <tr>\n",
       "      <th>...</th>\n",
       "      <td>...</td>\n",
       "      <td>...</td>\n",
       "      <td>...</td>\n",
       "      <td>...</td>\n",
       "      <td>...</td>\n",
       "      <td>...</td>\n",
       "      <td>...</td>\n",
       "    </tr>\n",
       "    <tr>\n",
       "      <th>2022-12-05 00:00:00-05:00</th>\n",
       "      <td>79.989998</td>\n",
       "      <td>82.720001</td>\n",
       "      <td>76.769997</td>\n",
       "      <td>76.930000</td>\n",
       "      <td>346657</td>\n",
       "      <td>0</td>\n",
       "      <td>0</td>\n",
       "    </tr>\n",
       "    <tr>\n",
       "      <th>2022-12-06 00:00:00-05:00</th>\n",
       "      <td>77.349998</td>\n",
       "      <td>77.879997</td>\n",
       "      <td>73.410004</td>\n",
       "      <td>74.250000</td>\n",
       "      <td>380598</td>\n",
       "      <td>0</td>\n",
       "      <td>0</td>\n",
       "    </tr>\n",
       "    <tr>\n",
       "      <th>2022-12-07 00:00:00-05:00</th>\n",
       "      <td>74.550003</td>\n",
       "      <td>75.379997</td>\n",
       "      <td>71.750000</td>\n",
       "      <td>72.010002</td>\n",
       "      <td>392236</td>\n",
       "      <td>0</td>\n",
       "      <td>0</td>\n",
       "    </tr>\n",
       "    <tr>\n",
       "      <th>2022-12-08 00:00:00-05:00</th>\n",
       "      <td>72.379997</td>\n",
       "      <td>75.440002</td>\n",
       "      <td>71.120003</td>\n",
       "      <td>71.459999</td>\n",
       "      <td>474459</td>\n",
       "      <td>0</td>\n",
       "      <td>0</td>\n",
       "    </tr>\n",
       "    <tr>\n",
       "      <th>2022-12-09 00:00:00-05:00</th>\n",
       "      <td>71.849998</td>\n",
       "      <td>72.919998</td>\n",
       "      <td>70.080002</td>\n",
       "      <td>71.589996</td>\n",
       "      <td>324750</td>\n",
       "      <td>0</td>\n",
       "      <td>0</td>\n",
       "    </tr>\n",
       "  </tbody>\n",
       "</table>\n",
       "<p>127 rows × 7 columns</p>\n",
       "</div>"
      ],
      "text/plain": [
       "                                 Open        High         Low       Close  \\\n",
       "Date                                                                        \n",
       "2022-06-13 00:00:00-04:00  120.190002  122.250000  117.470001  120.930000   \n",
       "2022-06-14 00:00:00-04:00  121.089996  123.680000  116.620003  118.930000   \n",
       "2022-06-15 00:00:00-04:00  119.070000  119.610001  114.599998  115.309998   \n",
       "2022-06-16 00:00:00-04:00  115.980003  118.080002  112.309998  117.589996   \n",
       "2022-06-17 00:00:00-04:00  117.080002  118.970001  108.250000  109.559998   \n",
       "...                               ...         ...         ...         ...   \n",
       "2022-12-05 00:00:00-05:00   79.989998   82.720001   76.769997   76.930000   \n",
       "2022-12-06 00:00:00-05:00   77.349998   77.879997   73.410004   74.250000   \n",
       "2022-12-07 00:00:00-05:00   74.550003   75.379997   71.750000   72.010002   \n",
       "2022-12-08 00:00:00-05:00   72.379997   75.440002   71.120003   71.459999   \n",
       "2022-12-09 00:00:00-05:00   71.849998   72.919998   70.080002   71.589996   \n",
       "\n",
       "                           Volume  Dividends  Stock Splits  \n",
       "Date                                                        \n",
       "2022-06-13 00:00:00-04:00  372403          0             0  \n",
       "2022-06-14 00:00:00-04:00  366320          0             0  \n",
       "2022-06-15 00:00:00-04:00  301750          0             0  \n",
       "2022-06-16 00:00:00-04:00  162543          0             0  \n",
       "2022-06-17 00:00:00-04:00  103149          0             0  \n",
       "...                           ...        ...           ...  \n",
       "2022-12-05 00:00:00-05:00  346657          0             0  \n",
       "2022-12-06 00:00:00-05:00  380598          0             0  \n",
       "2022-12-07 00:00:00-05:00  392236          0             0  \n",
       "2022-12-08 00:00:00-05:00  474459          0             0  \n",
       "2022-12-09 00:00:00-05:00  324750          0             0  \n",
       "\n",
       "[127 rows x 7 columns]"
      ]
     },
     "execution_count": 26,
     "metadata": {},
     "output_type": "execute_result"
    }
   ],
   "source": [
    "ticker = input(\"Qual o código da ação que deseja: \")\n",
    "dados = yfinance.Ticker(ticker)\n",
    "cotacao = dados.history(\"6mo\")\n",
    "cotacao"
   ]
  },
  {
   "cell_type": "code",
   "execution_count": 31,
   "id": "21881b05",
   "metadata": {},
   "outputs": [],
   "source": [
    "\n",
    "fechamento = cotacao.Close\n",
    "abertura = cotacao.Open\n",
    "maxima = cotacao.High\n",
    "minima = cotacao.Low\n",
    "\n",
    "\n",
    "\n"
   ]
  },
  {
   "cell_type": "code",
   "execution_count": 32,
   "id": "40e45c1d",
   "metadata": {},
   "outputs": [
    {
     "name": "stdout",
     "output_type": "stream",
     "text": [
      "Qual informação você quer, fechamento , abertura , minima ou maxima ? resposta : maxima\n"
     ]
    },
    {
     "data": {
      "image/png": "[encoded data removed]",
      "text/plain": [
       "<Figure size 640x480 with 1 Axes>"
      ]
     },
     "metadata": {},
     "output_type": "display_data"
    }
   ],
   "source": [
    "informacoes = input(\"Qual informação você quer, fechamento , abertura , minima ou maxima ? resposta : \")\n",
    "\n",
    "\n",
    "\n",
    "\n",
    "\n",
    "if informacoes == \"fechamento\":\n",
    "    fechamento.plot()\n",
    "\n",
    "if informacoes == \"abertura\":\n",
    "    abertura.plot()\n",
    "    \n",
    "if informacoes == \"minima\":\n",
    "    minima.plot()\n",
    "    \n",
    "if informacoes == \"maxima\":\n",
    "    maxima.plot()\n",
    "    \n",
    "\n",
    "    \n"
   ]
  },
  {
   "cell_type": "markdown",
   "id": "bbfaea7c",
   "metadata": {},
   "source": [
    "# Não consegui resolver esse erro. \n",
    "\n",
    "-'str' object has no attribute 'max'\n",
    "\n",
    "-Fiz de outra maneira que escreve mais linhas de código.\n",
    "\n",
    "cotacao_maxima = informacoes.max()\n",
    "cotacao_minima = informacoes.min()\n",
    "cotacao_atual = informacoes[-1]\n",
    "\n",
    "if informacoes == \"fechamento\":\n",
    "    print(cotacao_maxima)\n",
    "    print(cotacao_minima)\n",
    "    print(cotacao_atual)\n",
    "\n",
    "if informacoes == \"abertura\":\n",
    "    print(cotacao_maxima)\n",
    "    print(cotacao_minima)\n",
    "    print(cotacao_atual)\n",
    "    \n",
    "if informacoes == \"minima\":\n",
    "    print(cotacao_maxima)\n",
    "    print(cotacao_minima)\n",
    "    print(cotacao_atual)\n",
    "    \n",
    "if informacoes == \"maxima\":\n",
    "    print(cotacao_maxima)\n",
    "    print(cotacao_minima)\n",
    "    print(cotacao_atual)\n"
   ]
  },
  {
   "cell_type": "code",
   "execution_count": 134,
   "id": "d3602b0c",
   "metadata": {},
   "outputs": [],
   "source": []
  },
  {
   "cell_type": "code",
   "execution_count": 33,
   "id": "38abbeb2",
   "metadata": {},
   "outputs": [
    {
     "name": "stdout",
     "output_type": "stream",
     "text": [
      "A cotação atual é : 72.92\n",
      "A cotação máxima é : 123.68\n",
      "A cotação mínima é : 72.92\n"
     ]
    }
   ],
   "source": [
    "if informacoes == \"fechamento\":\n",
    "    cotacao_maxima = fechamento.max()\n",
    "    cotacao_minima = fechamento.min()\n",
    "    cotacao_atual = fechamento[-1]\n",
    "\n",
    "    print(f\"A cotação atual é : {round(cotacao_atual , 2)}\")\n",
    "    print(f\"A cotação máxima é : {round(cotacao_maxima, 2)}\")\n",
    "    print(f\"A cotação mínima é : {round(cotacao_minima, 2)}\")\n",
    "    \n",
    "if informacoes == \"maxima\":\n",
    "    cotacao_maxima = maxima.max()\n",
    "    cotacao_minima = maxima.min()\n",
    "    cotacao_atual = maxima[-1]\n",
    "\n",
    "    print(f\"A cotação atual é : {round(cotacao_atual , 2)}\")\n",
    "    print(f\"A cotação máxima é : {round(cotacao_maxima, 2)}\")\n",
    "    print(f\"A cotação mínima é : {round(cotacao_minima, 2)}\")\n",
    "    \n",
    "if informacoes == \"minima\":\n",
    "    cotacao_maxima = minima.max()\n",
    "    cotacao_minima = minima.min()\n",
    "    cotacao_atual = minima[-1]\n",
    "\n",
    "    print(f\"A cotação atual é : {round(cotacao_atual , 2)}\")\n",
    "    print(f\"A cotação máxima é : {round(cotacao_maxima, 2)}\")\n",
    "    print(f\"A cotação mínima é : {round(cotacao_minima, 2)}\")\n",
    "    \n",
    "if informacoes == \"abertura\":\n",
    "    cotacao_maxima = abertura.max()\n",
    "    cotacao_minima = abertura.min()\n",
    "    cotacao_atual = abertura[-1]\n",
    "    \n",
    "    \n",
    "\n",
    "    print(f\"A cotação atual é : {round(cotacao_atual , 2)}\")\n",
    "    print(f\"A cotação máxima é : {round(cotacao_maxima, 2)}\")\n",
    "    print(f\"A cotação mínima é : {round(cotacao_minima, 2)}\")\n",
    "    \n"
   ]
  },
  {
   "cell_type": "markdown",
   "id": "7adff6e1",
   "metadata": {},
   "source": [
    "# Enviando e-mail de forma automática\n",
    "\n",
    "Processo de enviar um e-mail passo a passo:\n",
    "- abrir uma nova aba no navegador (clicar em + ou CTRL + T)\n",
    "- digitar o endereço do gmail (www.gmail.com) e digitar ENTER\n",
    "- clicar em Escrever\n",
    "- digitar o endereço de e-mail do destinatário\n",
    "- mudar para o campo Assunto (clicar no campo ou digitar tab)\n",
    "- digitar o Assunto\n",
    "- mudar para campo principal do e-mail (clicar no campo ou digitar tab)\n",
    "- escrever a mensagem\n",
    "- clicar em Enviar"
   ]
  },
  {
   "cell_type": "markdown",
   "id": "a9fe8e59",
   "metadata": {},
   "source": [
    "# Instalando as bibliotecas pyautogui e pyperclip"
   ]
  },
  {
   "cell_type": "code",
   "execution_count": 5,
   "id": "7f17388e",
   "metadata": {},
   "outputs": [
    {
     "name": "stdout",
     "output_type": "stream",
     "text": [
      "Requirement already satisfied: pyautogui in c:\\users\\elmon\\anaconda3\\lib\\site-packages (0.9.53)\n",
      "Requirement already satisfied: pygetwindow>=0.0.5 in c:\\users\\elmon\\anaconda3\\lib\\site-packages (from pyautogui) (0.0.9)\n",
      "Requirement already satisfied: pymsgbox in c:\\users\\elmon\\anaconda3\\lib\\site-packages (from pyautogui) (1.0.9)\n",
      "Requirement already satisfied: PyTweening>=1.0.1 in c:\\users\\elmon\\anaconda3\\lib\\site-packages (from pyautogui) (1.0.4)\n",
      "Requirement already satisfied: pyscreeze>=0.1.21 in c:\\users\\elmon\\anaconda3\\lib\\site-packages (from pyautogui) (0.1.28)\n",
      "Requirement already satisfied: mouseinfo in c:\\users\\elmon\\anaconda3\\lib\\site-packages (from pyautogui) (0.1.3)\n",
      "Requirement already satisfied: pyrect in c:\\users\\elmon\\anaconda3\\lib\\site-packages (from pygetwindow>=0.0.5->pyautogui) (0.2.0)\n",
      "Requirement already satisfied: pyperclip in c:\\users\\elmon\\anaconda3\\lib\\site-packages (from mouseinfo->pyautogui) (1.8.2)\n"
     ]
    }
   ],
   "source": [
    "!pip install pyautogui\n"
   ]
  },
  {
   "cell_type": "code",
   "execution_count": 6,
   "id": "b686fac5",
   "metadata": {},
   "outputs": [
    {
     "name": "stdout",
     "output_type": "stream",
     "text": [
      "Requirement already satisfied: pyperclip in c:\\users\\elmon\\anaconda3\\lib\\site-packages (1.8.2)\n"
     ]
    }
   ],
   "source": [
    "!pip install pyperclip"
   ]
  },
  {
   "cell_type": "code",
   "execution_count": 23,
   "id": "e0761229",
   "metadata": {},
   "outputs": [],
   "source": [
    "import pyautogui\n",
    "import pyperclip"
   ]
  },
  {
   "cell_type": "code",
   "execution_count": 34,
   "id": "b0dc6560",
   "metadata": {},
   "outputs": [
    {
     "name": "stdout",
     "output_type": "stream",
     "text": [
      "Qual o destinatário ?elmogbr@gmail.com\n",
      "Qual o assunto do e-mail? teste\n"
     ]
    }
   ],
   "source": [
    "destinatario = input(\"Qual o destinatário ?\")\n",
    "assunto = input(\"Qual o assunto do e-mail? \")\n",
    "\n",
    "corpo_email = f\"\"\"\n",
    "\n",
    "Bom dia,\n",
    "\n",
    "Segue analise solicitada da ação {ticker} .\n",
    "\n",
    "Cotação maxima : {round(cotacao_maxima, 2)}\n",
    "Cotação minima : {round(cotacao_minima, 2)}\n",
    "cotação atual : {round(cotacao_atual, 2)}\n",
    "\n",
    "\n",
    "Atenciosamente,\n",
    "\n",
    "Elmo Florindo\n",
    "    \n",
    "\"\"\"\n",
    "\n"
   ]
  },
  {
   "cell_type": "markdown",
   "id": "98cf19a1",
   "metadata": {},
   "source": [
    "# Automatizando envio."
   ]
  },
  {
   "cell_type": "markdown",
   "id": "e2ef7e77",
   "metadata": {},
   "source": [
    "- Peguando posição do botao \"escrever\" e \"enviar\" no gmail ."
   ]
  },
  {
   "cell_type": "code",
   "execution_count": 57,
   "id": "29bf8ca0",
   "metadata": {},
   "outputs": [
    {
     "name": "stdout",
     "output_type": "stream",
     "text": [
      "Posicione o MOUSE\n",
      "Posicao atual do mouse:\n",
      "x = 1314 e y = 744\n"
     ]
    }
   ],
   "source": [
    "import time\n",
    "\n",
    "print('Posicione o MOUSE')\n",
    "time.sleep(5)\n",
    "x, y = pyautogui.position()\n",
    "print (\"Posicao atual do mouse:\")\n",
    "print(f\"x = {x} e y = {y}\")\n"
   ]
  },
  {
   "cell_type": "code",
   "execution_count": 55,
   "id": "f42e5c74",
   "metadata": {},
   "outputs": [],
   "source": [
    "pyautogui.PAUSE = 3\n",
    "\n",
    "pyautogui.hotkey(\"ctrl\", \"t\")\n",
    "pyautogui.hotkey(\"ctrl\", \"t\")\n",
    "\n",
    "\n",
    "pyperclip.copy(\"www.gmail.com\")\n",
    "pyautogui.hotkey(\"ctrl\", \"v\")\n",
    "pyautogui.hotkey(\"enter\")\n",
    "pyautogui.click(x=178, y=170)\n",
    "\n",
    "pyperclip.copy(destinatario)\n",
    "pyautogui.hotkey(\"ctrl\" , \"v\")\n",
    "pyautogui.hotkey(\"tab\")\n",
    "\n",
    "pyperclip.copy(assunto)\n",
    "pyautogui.hotkey(\"ctrl\" , \"v\")\n",
    "pyautogui.hotkey(\"tab\")\n",
    "\n",
    "pyperclip.copy(corpo_email)\n",
    "pyautogui.hotkey(\"ctrl\" , \"v\")\n",
    "\n",
    "\n",
    "pyautogui.hotkey(\"ctrl\" , \"enter\")\n",
    "\n",
    "\n"
   ]
  },
  {
   "cell_type": "markdown",
   "id": "144ea878",
   "metadata": {},
   "source": []
  }
 ],
 "metadata": {
  "kernelspec": {
   "display_name": "Python 3 (ipykernel)",
   "language": "python",
   "name": "python3"
  },
  "language_info": {
   "codemirror_mode": {
    "name": "ipython",
    "version": 3
   },
   "file_extension": ".py",
   "mimetype": "text/x-python",
   "name": "python",
   "nbconvert_exporter": "python",
   "pygments_lexer": "ipython3",
   "version": "3.9.13"
  }
 },
 "nbformat": 4,
 "nbformat_minor": 5
}
